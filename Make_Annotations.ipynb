{
 "metadata": {
  "name": "",
  "signature": "sha256:5808a97be49c96b3004b40c06dd45c5c456c9372364c767dc4b9c82449b5a0ef"
 },
 "nbformat": 3,
 "nbformat_minor": 0,
 "worksheets": [
  {
   "cells": [
    {
     "cell_type": "code",
     "collapsed": false,
     "input": [
      "%pylab inline\n",
      "import psycopg2\n",
      "import pandas as pd"
     ],
     "language": "python",
     "metadata": {},
     "outputs": [
      {
       "output_type": "stream",
       "stream": "stdout",
       "text": [
        "Populating the interactive namespace from numpy and matplotlib\n"
       ]
      }
     ],
     "prompt_number": 1
    },
    {
     "cell_type": "code",
     "collapsed": false,
     "input": [
      "age_results = pd.read_csv(\"age_results.csv\", index_col=0)"
     ],
     "language": "python",
     "metadata": {},
     "outputs": [],
     "prompt_number": 21
    },
    {
     "cell_type": "code",
     "collapsed": false,
     "input": [
      "clean = age_results.drop_duplicates(['series_id', 'platform_id', 'sample_id'])\n",
      "groups = clean.head(1000).groupby(['series_id', 'platform_id'])\n",
      "for (series_id, platform_id), df in groups:\n",
      "    df = df.set_index('sample_id')\n",
      "    print df.annotation"
     ],
     "language": "python",
     "metadata": {},
     "outputs": [],
     "prompt_number": 22
    },
    {
     "cell_type": "code",
     "collapsed": false,
     "input": [],
     "language": "python",
     "metadata": {},
     "outputs": []
    }
   ],
   "metadata": {}
  }
 ]
}